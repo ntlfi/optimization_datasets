{
 "cells": [
  {
   "cell_type": "code",
   "execution_count": 1,
   "metadata": {},
   "outputs": [],
   "source": [
    "import numpy as np\n",
    "import pandas as pd\n",
    "\n",
    "# Load the data\n",
    "df = pd.read_excel(\"21zp33ny.xlsx\")"
   ]
  },
  {
   "cell_type": "code",
   "execution_count": 4,
   "metadata": {},
   "outputs": [],
   "source": [
    "df = df[[\"NEW YORK\", \"Unnamed: 1\", \"Unnamed: 2\"]]"
   ]
  },
  {
   "cell_type": "code",
   "execution_count": 6,
   "metadata": {},
   "outputs": [],
   "source": [
    "# for each row, delete nan values\n",
    "df = df.dropna()"
   ]
  },
  {
   "cell_type": "code",
   "execution_count": 7,
   "metadata": {},
   "outputs": [
    {
     "data": {
      "text/html": [
       "<div>\n",
       "<style scoped>\n",
       "    .dataframe tbody tr th:only-of-type {\n",
       "        vertical-align: middle;\n",
       "    }\n",
       "\n",
       "    .dataframe tbody tr th {\n",
       "        vertical-align: top;\n",
       "    }\n",
       "\n",
       "    .dataframe thead th {\n",
       "        text-align: right;\n",
       "    }\n",
       "</style>\n",
       "<table border=\"1\" class=\"dataframe\">\n",
       "  <thead>\n",
       "    <tr style=\"text-align: right;\">\n",
       "      <th></th>\n",
       "      <th>NEW YORK</th>\n",
       "      <th>Unnamed: 1</th>\n",
       "      <th>Unnamed: 2</th>\n",
       "    </tr>\n",
       "  </thead>\n",
       "  <tbody>\n",
       "    <tr>\n",
       "      <th>2</th>\n",
       "      <td>ZIP\\ncode [1]</td>\n",
       "      <td>Size of adjusted gross income</td>\n",
       "      <td>Number of \\nreturns [2]</td>\n",
       "    </tr>\n",
       "    <tr>\n",
       "      <th>5</th>\n",
       "      <td>0</td>\n",
       "      <td>Total</td>\n",
       "      <td>9620850</td>\n",
       "    </tr>\n",
       "    <tr>\n",
       "      <th>6</th>\n",
       "      <td>0</td>\n",
       "      <td>$1 under $25,000</td>\n",
       "      <td>2691220</td>\n",
       "    </tr>\n",
       "    <tr>\n",
       "      <th>7</th>\n",
       "      <td>0</td>\n",
       "      <td>$25,000 under $50,000</td>\n",
       "      <td>2324490</td>\n",
       "    </tr>\n",
       "    <tr>\n",
       "      <th>8</th>\n",
       "      <td>0</td>\n",
       "      <td>$50,000 under $75,000</td>\n",
       "      <td>1424670</td>\n",
       "    </tr>\n",
       "    <tr>\n",
       "      <th>...</th>\n",
       "      <td>...</td>\n",
       "      <td>...</td>\n",
       "      <td>...</td>\n",
       "    </tr>\n",
       "    <tr>\n",
       "      <th>12287</th>\n",
       "      <td>99999</td>\n",
       "      <td>$25,000 under $50,000</td>\n",
       "      <td>17620</td>\n",
       "    </tr>\n",
       "    <tr>\n",
       "      <th>12288</th>\n",
       "      <td>99999</td>\n",
       "      <td>$50,000 under $75,000</td>\n",
       "      <td>11330</td>\n",
       "    </tr>\n",
       "    <tr>\n",
       "      <th>12289</th>\n",
       "      <td>99999</td>\n",
       "      <td>$75,000 under $100,000</td>\n",
       "      <td>7560</td>\n",
       "    </tr>\n",
       "    <tr>\n",
       "      <th>12290</th>\n",
       "      <td>99999</td>\n",
       "      <td>$100,000 under $200,000</td>\n",
       "      <td>13140</td>\n",
       "    </tr>\n",
       "    <tr>\n",
       "      <th>12291</th>\n",
       "      <td>99999</td>\n",
       "      <td>$200,000 or more</td>\n",
       "      <td>11710</td>\n",
       "    </tr>\n",
       "  </tbody>\n",
       "</table>\n",
       "<p>9218 rows × 3 columns</p>\n",
       "</div>"
      ],
      "text/plain": [
       "            NEW YORK                     Unnamed: 1               Unnamed: 2\n",
       "2      ZIP\\ncode [1]  Size of adjusted gross income  Number of \\nreturns [2]\n",
       "5                  0                          Total                  9620850\n",
       "6                  0               $1 under $25,000                  2691220\n",
       "7                  0          $25,000 under $50,000                  2324490\n",
       "8                  0          $50,000 under $75,000                  1424670\n",
       "...              ...                            ...                      ...\n",
       "12287          99999          $25,000 under $50,000                    17620\n",
       "12288          99999          $50,000 under $75,000                    11330\n",
       "12289          99999         $75,000 under $100,000                     7560\n",
       "12290          99999        $100,000 under $200,000                    13140\n",
       "12291          99999               $200,000 or more                    11710\n",
       "\n",
       "[9218 rows x 3 columns]"
      ]
     },
     "execution_count": 7,
     "metadata": {},
     "output_type": "execute_result"
    }
   ],
   "source": [
    "df.columns = [\"ZIP code\", \"number_of_returns\", \"total_income\"]"
   ]
  }
 ],
 "metadata": {
  "kernelspec": {
   "display_name": "base",
   "language": "python",
   "name": "python3"
  },
  "language_info": {
   "codemirror_mode": {
    "name": "ipython",
    "version": 3
   },
   "file_extension": ".py",
   "mimetype": "text/x-python",
   "name": "python",
   "nbconvert_exporter": "python",
   "pygments_lexer": "ipython3",
   "version": "3.11.5"
  }
 },
 "nbformat": 4,
 "nbformat_minor": 2
}
