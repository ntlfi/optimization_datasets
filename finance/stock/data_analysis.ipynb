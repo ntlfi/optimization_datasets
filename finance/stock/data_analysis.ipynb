{
 "cells": [
  {
   "cell_type": "code",
   "execution_count": 6,
   "metadata": {},
   "outputs": [],
   "source": [
    "import numpy as np\n",
    "import pandas as pd"
   ]
  },
  {
   "cell_type": "code",
   "execution_count": 7,
   "metadata": {},
   "outputs": [
    {
     "name": "stdout",
     "output_type": "stream",
     "text": [
      "<class 'pandas.core.frame.DataFrame'>\n",
      "RangeIndex: 2008 entries, 0 to 2007\n",
      "Data columns (total 8 columns):\n",
      " #   Column     Non-Null Count  Dtype  \n",
      "---  ------     --------------  -----  \n",
      " 0   Date       2008 non-null   object \n",
      " 1   Open       2008 non-null   float64\n",
      " 2   High       2008 non-null   float64\n",
      " 3   Low        2008 non-null   float64\n",
      " 4   Close      2008 non-null   float64\n",
      " 5   Adj Close  2008 non-null   float64\n",
      " 6   Volume     2008 non-null   int64  \n",
      " 7   ticker     2008 non-null   object \n",
      "dtypes: float64(5), int64(1), object(2)\n",
      "memory usage: 125.6+ KB\n"
     ]
    }
   ],
   "source": [
    "# load data\n",
    "data = pd.read_csv('data.csv')\n",
    "data.info()"
   ]
  },
  {
   "cell_type": "code",
   "execution_count": 8,
   "metadata": {},
   "outputs": [
    {
     "data": {
      "text/html": [
       "<div>\n",
       "<style scoped>\n",
       "    .dataframe tbody tr th:only-of-type {\n",
       "        vertical-align: middle;\n",
       "    }\n",
       "\n",
       "    .dataframe tbody tr th {\n",
       "        vertical-align: top;\n",
       "    }\n",
       "\n",
       "    .dataframe thead th {\n",
       "        text-align: right;\n",
       "    }\n",
       "</style>\n",
       "<table border=\"1\" class=\"dataframe\">\n",
       "  <thead>\n",
       "    <tr style=\"text-align: right;\">\n",
       "      <th></th>\n",
       "      <th>Date</th>\n",
       "      <th>Open</th>\n",
       "      <th>High</th>\n",
       "      <th>Low</th>\n",
       "      <th>Close</th>\n",
       "      <th>Adj Close</th>\n",
       "      <th>Volume</th>\n",
       "      <th>ticker</th>\n",
       "    </tr>\n",
       "  </thead>\n",
       "  <tbody>\n",
       "    <tr>\n",
       "      <th>0</th>\n",
       "      <td>2023-08-28</td>\n",
       "      <td>180.089996</td>\n",
       "      <td>180.589996</td>\n",
       "      <td>178.550003</td>\n",
       "      <td>180.190002</td>\n",
       "      <td>179.272659</td>\n",
       "      <td>43820700</td>\n",
       "      <td>AAPL</td>\n",
       "    </tr>\n",
       "    <tr>\n",
       "      <th>1</th>\n",
       "      <td>2023-08-29</td>\n",
       "      <td>179.699997</td>\n",
       "      <td>184.899994</td>\n",
       "      <td>179.500000</td>\n",
       "      <td>184.119995</td>\n",
       "      <td>183.182617</td>\n",
       "      <td>53003900</td>\n",
       "      <td>AAPL</td>\n",
       "    </tr>\n",
       "    <tr>\n",
       "      <th>2</th>\n",
       "      <td>2023-08-30</td>\n",
       "      <td>184.940002</td>\n",
       "      <td>187.850006</td>\n",
       "      <td>184.740005</td>\n",
       "      <td>187.649994</td>\n",
       "      <td>186.694656</td>\n",
       "      <td>60813900</td>\n",
       "      <td>AAPL</td>\n",
       "    </tr>\n",
       "    <tr>\n",
       "      <th>3</th>\n",
       "      <td>2023-08-31</td>\n",
       "      <td>187.839996</td>\n",
       "      <td>189.119995</td>\n",
       "      <td>187.479996</td>\n",
       "      <td>187.869995</td>\n",
       "      <td>186.913544</td>\n",
       "      <td>60794500</td>\n",
       "      <td>AAPL</td>\n",
       "    </tr>\n",
       "    <tr>\n",
       "      <th>4</th>\n",
       "      <td>2023-09-01</td>\n",
       "      <td>189.490005</td>\n",
       "      <td>189.919998</td>\n",
       "      <td>188.279999</td>\n",
       "      <td>189.460007</td>\n",
       "      <td>188.495468</td>\n",
       "      <td>45732600</td>\n",
       "      <td>AAPL</td>\n",
       "    </tr>\n",
       "  </tbody>\n",
       "</table>\n",
       "</div>"
      ],
      "text/plain": [
       "         Date        Open        High         Low       Close   Adj Close  \\\n",
       "0  2023-08-28  180.089996  180.589996  178.550003  180.190002  179.272659   \n",
       "1  2023-08-29  179.699997  184.899994  179.500000  184.119995  183.182617   \n",
       "2  2023-08-30  184.940002  187.850006  184.740005  187.649994  186.694656   \n",
       "3  2023-08-31  187.839996  189.119995  187.479996  187.869995  186.913544   \n",
       "4  2023-09-01  189.490005  189.919998  188.279999  189.460007  188.495468   \n",
       "\n",
       "     Volume ticker  \n",
       "0  43820700   AAPL  \n",
       "1  53003900   AAPL  \n",
       "2  60813900   AAPL  \n",
       "3  60794500   AAPL  \n",
       "4  45732600   AAPL  "
      ]
     },
     "execution_count": 8,
     "metadata": {},
     "output_type": "execute_result"
    }
   ],
   "source": [
    "data.head()"
   ]
  }
 ],
 "metadata": {
  "kernelspec": {
   "display_name": "base",
   "language": "python",
   "name": "python3"
  },
  "language_info": {
   "codemirror_mode": {
    "name": "ipython",
    "version": 3
   },
   "file_extension": ".py",
   "mimetype": "text/x-python",
   "name": "python",
   "nbconvert_exporter": "python",
   "pygments_lexer": "ipython3",
   "version": "3.9.7"
  }
 },
 "nbformat": 4,
 "nbformat_minor": 2
}
