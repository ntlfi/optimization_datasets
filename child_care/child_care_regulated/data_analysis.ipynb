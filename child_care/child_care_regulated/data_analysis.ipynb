{
 "cells": [
  {
   "cell_type": "code",
   "execution_count": 1,
   "metadata": {},
   "outputs": [],
   "source": [
    "import numpy as np\n",
    "import pandas as pd\n",
    "import re"
   ]
  },
  {
   "cell_type": "code",
   "execution_count": 2,
   "metadata": {},
   "outputs": [
    {
     "name": "stdout",
     "output_type": "stream",
     "text": [
      "<class 'pandas.core.frame.DataFrame'>\n",
      "RangeIndex: 15540 entries, 0 to 15539\n",
      "Data columns (total 13 columns):\n",
      " #   Column                Non-Null Count  Dtype \n",
      "---  ------                --------------  ----- \n",
      " 0   facility_id           15540 non-null  int64 \n",
      " 1   program_type          15540 non-null  object\n",
      " 2   facility_status       15540 non-null  object\n",
      " 3   facility_name         15540 non-null  object\n",
      " 4   city                  15540 non-null  object\n",
      " 5   zip_code              15540 non-null  int64 \n",
      " 6   school_district_name  15492 non-null  object\n",
      " 7   infant_capacity       15540 non-null  int64 \n",
      " 8   toddler_capacity      15540 non-null  int64 \n",
      " 9   preschool_capacity    15540 non-null  int64 \n",
      " 10  school_age_capacity   15540 non-null  int64 \n",
      " 11  children_capcity      15540 non-null  int64 \n",
      " 12  total_capacity        15540 non-null  int64 \n",
      "dtypes: int64(8), object(5)\n",
      "memory usage: 1.5+ MB\n"
     ]
    }
   ],
   "source": [
    "# Read the data from the CSV file\n",
    "df = pd.read_csv('child_care_regulated.csv')\n",
    "\n",
    "df.info()"
   ]
  },
  {
   "cell_type": "code",
   "execution_count": 4,
   "metadata": {},
   "outputs": [
    {
     "name": "stdout",
     "output_type": "stream",
     "text": [
      "The number of rows in the dataset is 15540\n",
      "The number of columns in the dataset is 13\n",
      "|    |   facility_id | program_type   | facility_status   | facility_name                                     | city         |   zip_code | school_district_name   |   infant_capacity |   toddler_capacity |   preschool_capacity |   school_age_capacity |   children_capcity |   total_capacity |\n",
      "|---:|--------------:|:---------------|:------------------|:--------------------------------------------------|:-------------|-----------:|:-----------------------|------------------:|-------------------:|---------------------:|----------------------:|-------------------:|-----------------:|\n",
      "|  0 |            14 | GFDC           | License           | Levine, Rosemarie                                 | Albany       |      12203 | Albany                 |                 0 |                  0 |                    0 |                     2 |                 12 |               14 |\n",
      "|  1 |          5555 | FDC            | Registration      | Matey, Sally                                      | Jamestown    |      14701 | Jamestown              |                 0 |                  0 |                    0 |                     2 |                  6 |                8 |\n",
      "|  2 |         40414 | DCC            | License           | Early Childhood Cooperative Experience            | Harris       |      12742 | nan                    |                24 |                 36 |                   38 |                     0 |                  0 |               98 |\n",
      "|  3 |         40542 | DCC            | License           | The New Rochelle Day Nursery                      | New Rochelle |      10801 | New Rochelle           |                 0 |                 38 |                   74 |                     0 |                  0 |              112 |\n",
      "|  4 |         44327 | DCC            | License           | St. Lawrence County Community Development Program | Ogdensburg   |      13669 | Ogdensburg             |                 0 |                  0 |                   17 |                     0 |                  0 |               17 |\n",
      "|  5 |         44774 | DCC            | License           | Haverstraw Head Start                             | Haverstraw   |      10927 | Haverstraw-Stony Pt    |                 0 |                  0 |                  120 |                     0 |                  0 |              120 |\n",
      "|  6 |        107869 | DCC            | License           | Parsons Child and Family Center                   | Schenectady  |      12304 | Schenectady            |                 0 |                  0 |                   95 |                     0 |                  0 |               95 |\n",
      "|  7 |        134735 | DCC            | License           | St. Lawrence County Community Development Program | Potsdam      |      13676 | Potsdam                |                 0 |                  0 |                   42 |                     0 |                  0 |               42 |\n",
      "|  8 |        162378 | SACC           | Registration      | Committee for Hispanic Children and Families, Inc | Bronx        |      10453 | Bronx 10               |                 0 |                  0 |                    0 |                   269 |                  0 |              269 |\n",
      "|  9 |        226129 | GFDC           | License           | Daddy's Day Care Limited Liability Company        | Elmont       |      11003 | Elmont                 |                 0 |                  0 |                    0 |                     4 |                 12 |               16 |\n"
     ]
    }
   ],
   "source": [
    "print(\"The number of rows in the dataset is\", len(df))\n",
    "print(\"The number of columns in the dataset is\", len(df.columns))\n",
    "print(df[:10].to_markdown())"
   ]
  }
 ],
 "metadata": {
  "kernelspec": {
   "display_name": "base",
   "language": "python",
   "name": "python3"
  },
  "language_info": {
   "codemirror_mode": {
    "name": "ipython",
    "version": 3
   },
   "file_extension": ".py",
   "mimetype": "text/x-python",
   "name": "python",
   "nbconvert_exporter": "python",
   "pygments_lexer": "ipython3",
   "version": "3.9.12"
  }
 },
 "nbformat": 4,
 "nbformat_minor": 2
}
