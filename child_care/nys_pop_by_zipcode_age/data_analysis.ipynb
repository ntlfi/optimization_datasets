{
 "cells": [
  {
   "cell_type": "code",
   "execution_count": 1,
   "metadata": {},
   "outputs": [],
   "source": [
    "import pandas as pd"
   ]
  },
  {
   "cell_type": "code",
   "execution_count": 2,
   "metadata": {},
   "outputs": [
    {
     "name": "stdout",
     "output_type": "stream",
     "text": [
      "<class 'pandas.core.frame.DataFrame'>\n",
      "RangeIndex: 1646 entries, 0 to 1645\n",
      "Data columns (total 20 columns):\n",
      " #   Column   Non-Null Count  Dtype\n",
      "---  ------   --------------  -----\n",
      " 0   zipcode  1646 non-null   int64\n",
      " 1   Total    1646 non-null   int64\n",
      " 2   -5       1646 non-null   int64\n",
      " 3   5-9      1646 non-null   int64\n",
      " 4   10-14    1646 non-null   int64\n",
      " 5   15-19    1646 non-null   int64\n",
      " 6   20-24    1646 non-null   int64\n",
      " 7   25-29    1646 non-null   int64\n",
      " 8   30-34    1646 non-null   int64\n",
      " 9   35-39    1646 non-null   int64\n",
      " 10  40-44    1646 non-null   int64\n",
      " 11  45-49    1646 non-null   int64\n",
      " 12  50-54    1646 non-null   int64\n",
      " 13  55-59    1646 non-null   int64\n",
      " 14  60-64    1646 non-null   int64\n",
      " 15  65-69    1646 non-null   int64\n",
      " 16  70-74    1646 non-null   int64\n",
      " 17  75-79    1646 non-null   int64\n",
      " 18  80-84    1646 non-null   int64\n",
      " 19  85+      1646 non-null   int64\n",
      "dtypes: int64(20)\n",
      "memory usage: 257.3 KB\n"
     ]
    }
   ],
   "source": [
    "df = pd.read_csv('population.csv')\n",
    "\n",
    "df.info()"
   ]
  },
  {
   "cell_type": "code",
   "execution_count": 3,
   "metadata": {},
   "outputs": [
    {
     "name": "stdout",
     "output_type": "stream",
     "text": [
      "The number of rows in the dataset is 1646\n",
      "The number of columns in the dataset is 20\n",
      "|    |   zipcode |   Total |   -5 |   5-9 |   10-14 |   15-19 |   20-24 |   25-29 |   30-34 |   35-39 |   40-44 |   45-49 |   50-54 |   55-59 |   60-64 |   65-69 |   70-74 |   75-79 |   80-84 |   85+ |\n",
      "|---:|----------:|--------:|-----:|------:|--------:|--------:|--------:|--------:|--------:|--------:|--------:|--------:|--------:|--------:|--------:|--------:|--------:|--------:|--------:|------:|\n",
      "|  0 |      6390 |      53 |    0 |     1 |       5 |       0 |       6 |       0 |       9 |      18 |       0 |      12 |       2 |       0 |       0 |       0 |       0 |       0 |       0 |     0 |\n",
      "|  1 |     10001 |   27004 |  744 |   784 |     942 |    1035 |    2296 |    3806 |    3588 |    2524 |    1702 |    1903 |    1704 |    1225 |    1323 |     933 |     815 |     616 |     488 |   576 |\n",
      "|  2 |     10002 |   76518 | 2142 |  3046 |    3198 |    2652 |    4528 |    6988 |    6278 |    5157 |    4962 |    4822 |    4410 |    6106 |    4548 |    4815 |    4748 |    2531 |    2793 |  2794 |\n",
      "|  3 |     10003 |   53877 | 1440 |  1034 |     953 |    7013 |    6344 |    7100 |    6427 |    3221 |    2907 |    1988 |    2698 |    2350 |    2274 |    2793 |    1854 |    1646 |     779 |  1056 |\n",
      "|  4 |     10004 |    4579 |  433 |   182 |     161 |     108 |     109 |     601 |     724 |     490 |     241 |     313 |     549 |     279 |     199 |     173 |       2 |      15 |       0 |     0 |\n",
      "|  5 |     10005 |    8801 |  484 |   204 |     229 |      53 |     989 |    2604 |    1144 |     945 |     685 |     351 |     652 |     218 |      85 |      92 |      66 |       0 |       0 |     0 |\n",
      "|  6 |     10006 |    3736 |  128 |    96 |      75 |     242 |     258 |     593 |     778 |     445 |     428 |     316 |     172 |      58 |      56 |       6 |      65 |       0 |       0 |    20 |\n",
      "|  7 |     10007 |    7506 |  605 |   451 |     290 |     188 |     414 |     760 |    1074 |     750 |     505 |    1042 |     489 |     126 |     171 |     369 |     172 |       0 |      65 |    35 |\n",
      "|  8 |     10009 |   58418 | 1896 |  1658 |    1835 |    1322 |    4892 |    7440 |    7784 |    3980 |    3624 |    2841 |    2963 |    4957 |    4078 |    2858 |    2368 |    1489 |    1256 |  1177 |\n",
      "|  9 |     10010 |   32410 | 1422 |  1592 |     948 |    1921 |    2640 |    3364 |    3516 |    3145 |    1839 |    1874 |    1467 |    1247 |    1870 |    1694 |    1621 |     898 |     760 |   592 |\n"
     ]
    }
   ],
   "source": [
    "print(\"The number of rows in the dataset is\", len(df))\n",
    "print(\"The number of columns in the dataset is\", len(df.columns))\n",
    "print(df[:10].to_markdown())"
   ]
  }
 ],
 "metadata": {
  "kernelspec": {
   "display_name": "base",
   "language": "python",
   "name": "python3"
  },
  "language_info": {
   "codemirror_mode": {
    "name": "ipython",
    "version": 3
   },
   "file_extension": ".py",
   "mimetype": "text/x-python",
   "name": "python",
   "nbconvert_exporter": "python",
   "pygments_lexer": "ipython3",
   "version": "3.9.12"
  }
 },
 "nbformat": 4,
 "nbformat_minor": 2
}
