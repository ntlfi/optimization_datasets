{
 "cells": [
  {
   "cell_type": "code",
   "execution_count": 1,
   "metadata": {},
   "outputs": [],
   "source": [
    "import numpy as np\n",
    "import pandas as pd"
   ]
  },
  {
   "cell_type": "code",
   "execution_count": 2,
   "metadata": {},
   "outputs": [
    {
     "name": "stdout",
     "output_type": "stream",
     "text": [
      "<class 'pandas.core.frame.DataFrame'>\n",
      "RangeIndex: 2610 entries, 0 to 2609\n",
      "Data columns (total 7 columns):\n",
      " #   Column             Non-Null Count  Dtype  \n",
      "---  ------             --------------  -----  \n",
      " 0   month              2610 non-null   object \n",
      " 1   division           2610 non-null   object \n",
      " 2   line               2610 non-null   object \n",
      " 3   day_type           2610 non-null   int64  \n",
      " 4   num_sched_trains   2610 non-null   int64  \n",
      " 5   num_actual_trains  2610 non-null   int64  \n",
      " 6   service_delivered  2610 non-null   float64\n",
      "dtypes: float64(1), int64(3), object(3)\n",
      "memory usage: 142.9+ KB\n"
     ]
    }
   ],
   "source": [
    "import pandas as pd\n",
    "\n",
    "# Read the CSV file\n",
    "df = pd.read_csv('schedule.csv')\n",
    "\n",
    "df.info()"
   ]
  },
  {
   "cell_type": "code",
   "execution_count": 3,
   "metadata": {},
   "outputs": [
    {
     "name": "stdout",
     "output_type": "stream",
     "text": [
      "The number of rows in the dataset is 2610\n",
      "The number of columns in the dataset is 7\n",
      "|    | month   | division   |   line |   day_type |   num_sched_trains |   num_actual_trains |   service_delivered |\n",
      "|---:|:--------|:-----------|-------:|-----------:|-------------------:|--------------------:|--------------------:|\n",
      "|  0 | 2024-07 | A DIVISION |      1 |          1 |               1848 |                1738 |            0.940476 |\n",
      "|  1 | 2024-07 | A DIVISION |      1 |          2 |                959 |                 948 |            0.98853  |\n",
      "|  2 | 2024-07 | A DIVISION |      2 |          1 |               2439 |                2284 |            0.936449 |\n",
      "|  3 | 2024-07 | A DIVISION |      2 |          2 |               1270 |                1213 |            0.955118 |\n",
      "|  4 | 2024-07 | A DIVISION |      3 |          2 |               1280 |                1241 |            0.969531 |\n",
      "|  5 | 2024-07 | A DIVISION |      3 |          1 |               2266 |                2116 |            0.933804 |\n",
      "|  6 | 2024-07 | A DIVISION |      4 |          2 |               1904 |                1791 |            0.940651 |\n",
      "|  7 | 2024-07 | A DIVISION |      4 |          1 |               3036 |                2876 |            0.947299 |\n",
      "|  8 | 2024-07 | A DIVISION |      5 |          1 |               2836 |                2633 |            0.92842  |\n",
      "|  9 | 2024-07 | A DIVISION |      5 |          2 |                768 |                 736 |            0.958333 |\n"
     ]
    }
   ],
   "source": [
    "print(\"The number of rows in the dataset is\", len(df))\n",
    "print(\"The number of columns in the dataset is\", len(df.columns))\n",
    "print(df[:10].to_markdown())"
   ]
  }
 ],
 "metadata": {
  "kernelspec": {
   "display_name": "base",
   "language": "python",
   "name": "python3"
  },
  "language_info": {
   "codemirror_mode": {
    "name": "ipython",
    "version": 3
   },
   "file_extension": ".py",
   "mimetype": "text/x-python",
   "name": "python",
   "nbconvert_exporter": "python",
   "pygments_lexer": "ipython3",
   "version": "3.11.5"
  }
 },
 "nbformat": 4,
 "nbformat_minor": 2
}
